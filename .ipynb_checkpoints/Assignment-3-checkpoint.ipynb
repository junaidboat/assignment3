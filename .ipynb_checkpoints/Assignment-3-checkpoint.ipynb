{
 "cells": [
  {
   "cell_type": "markdown",
   "id": "9c14a31d-4f7e-4944-b469-feb385e3c971",
   "metadata": {},
   "source": [
    "Q1. Which keyword is used to create a function? Create a function to return a list of odd numbers in the\n",
    "range of 1 to 25.\n",
    "\n",
    "\n",
    "Ans.  def keyword is used to create a function."
   ]
  },
  {
   "cell_type": "code",
   "execution_count": 5,
   "id": "5d4f452f-19b9-4ce5-82d6-73dcc9ffa147",
   "metadata": {},
   "outputs": [],
   "source": [
    "def list1():\n",
    "    n=[]\n",
    "    for i in range(25):\n",
    "        if i%2!=0:\n",
    "            n.append(i)\n",
    "    return n"
   ]
  },
  {
   "cell_type": "code",
   "execution_count": 6,
   "id": "7abc37c8-e03c-497f-bf1c-c82b2b9e1160",
   "metadata": {},
   "outputs": [
    {
     "data": {
      "text/plain": [
       "[1, 3, 5, 7, 9, 11, 13, 15, 17, 19, 21, 23]"
      ]
     },
     "execution_count": 6,
     "metadata": {},
     "output_type": "execute_result"
    }
   ],
   "source": [
    "list1()"
   ]
  },
  {
   "cell_type": "markdown",
   "id": "58a7d1ef-1551-4a86-bb51-87cfa8c455ed",
   "metadata": {},
   "source": [
    "Q2. Why *args and **kwargs is used in some functions? Create a function each for *args and **kwargs to\n",
    "demonstrate their use.\n",
    "\n",
    "Ans. *args is used to create function with n number of parameters.\n",
    "     \n",
    "     **Kwargs is used to create  n numbers of key:value pairs as parameters "
   ]
  },
  {
   "cell_type": "code",
   "execution_count": 7,
   "id": "88c54f37-8f4a-4642-a8b0-ab4632c113ac",
   "metadata": {},
   "outputs": [],
   "source": [
    "def numbers (*args):\n",
    "    n=[]\n",
    "    for i in args:\n",
    "        if (type(i)==tuple):\n",
    "            n.append(i)\n",
    "    return n"
   ]
  },
  {
   "cell_type": "code",
   "execution_count": 8,
   "id": "4071f8fe-117c-4a23-96e5-04cf1a639472",
   "metadata": {},
   "outputs": [
    {
     "data": {
      "text/plain": [
       "[(3, 4, 5, 6)]"
      ]
     },
     "execution_count": 8,
     "metadata": {},
     "output_type": "execute_result"
    }
   ],
   "source": [
    "numbers([1,2,3,4],(3,4,5,6),{2,3,4,5})"
   ]
  },
  {
   "cell_type": "code",
   "execution_count": 9,
   "id": "a3b8c3cd-71f4-437d-843e-264c74ab81a3",
   "metadata": {},
   "outputs": [
    {
     "data": {
      "text/plain": [
       "[(3, 4, 5, 6)]"
      ]
     },
     "execution_count": 9,
     "metadata": {},
     "output_type": "execute_result"
    }
   ],
   "source": [
    "numbers([1,2,3,4],(3,4,5,6),{2,3,4,5})"
   ]
  },
  {
   "cell_type": "code",
   "execution_count": 10,
   "id": "1d55bd56-6206-4aca-9146-ae115c6aaab4",
   "metadata": {},
   "outputs": [],
   "source": [
    "def number2(**kwargs):   \n",
    "    for i in kwargs.keys():\n",
    "        if type(kwargs[i])==tuple:\n",
    "            return i,kwargs[i]"
   ]
  },
  {
   "cell_type": "code",
   "execution_count": 12,
   "id": "bd9aad10-9bfd-4685-9ba7-fa64a1a1c086",
   "metadata": {},
   "outputs": [
    {
     "data": {
      "text/plain": [
       "('d', (5, 65, 35, 33, 3))"
      ]
     },
     "execution_count": 12,
     "metadata": {},
     "output_type": "execute_result"
    }
   ],
   "source": [
    "number2(a=4,b=8,c=[1,2,4,5,5,6],d=(5,65,35,33,3),p=\"Deepa\")"
   ]
  },
  {
   "cell_type": "markdown",
   "id": "9ee5eba5-2f2f-4a4a-b730-c679ae8972b0",
   "metadata": {},
   "source": [
    "Q3. What is an iterator in python? Name the method used to initialise the iterator object and the method\n",
    "used for iteration. Use these methods to print the first five elements of the given list [2, 4, 6, 8, 10, 12, 14, 16,\n",
    "18, 20].\n",
    "\n",
    "Ans.iterator:An object that allows you to iterate over collections of data, such as lists, tuples, dictionaries, and sets.\n",
    "\n",
    "The iterator consists of two methods: \n",
    "\n",
    "iter() and \n",
    "next().  \n",
    "Iter() method is used to initialize the iterator object so that the instance of this object can be used for iterating.\n",
    "\n",
    "The next() method is used to iterate over the iterable objects. The next() method returns the next value in the iterable object."
   ]
  },
  {
   "cell_type": "code",
   "execution_count": 13,
   "id": "02195321-6f8e-4946-acb4-54a6486d7ece",
   "metadata": {},
   "outputs": [],
   "source": [
    "list=[2, 4, 6, 8, 10, 12, 14, 16, 18, 20]"
   ]
  },
  {
   "cell_type": "code",
   "execution_count": 14,
   "id": "3eed666b-e674-4d2e-b64c-9ebd8f70e9c4",
   "metadata": {},
   "outputs": [],
   "source": [
    "myiterator=iter(list)"
   ]
  },
  {
   "cell_type": "code",
   "execution_count": 15,
   "id": "a6b239a9-f03c-4ddc-b40c-7c5d91a1fe7d",
   "metadata": {},
   "outputs": [
    {
     "name": "stdout",
     "output_type": "stream",
     "text": [
      "2\n",
      "4\n",
      "6\n",
      "8\n",
      "10\n"
     ]
    }
   ],
   "source": [
    "print(next(myiterator))\n",
    "print(next(myiterator))\n",
    "print(next(myiterator))\n",
    "print(next(myiterator))\n",
    "print(next(myiterator))"
   ]
  },
  {
   "cell_type": "markdown",
   "id": "f8da1116-95df-4907-beca-06450c9c4133",
   "metadata": {},
   "source": [
    "Q4. What is a generator function in python? Why yield keyword is used? Give an example of a generator\n",
    "function.\n",
    "Ans.A generator-function is defined like a normal function, but whenever it needs to generate a value, it does so with the yield keyword rather than return.\n",
    "\n",
    "This yield keyword will return the result one by one when we put it inside the loop instead of iterating the whole dataset"
   ]
  },
  {
   "cell_type": "code",
   "execution_count": 16,
   "id": "fbcf1eb7-7ae0-4a77-b876-7ea5026f837a",
   "metadata": {},
   "outputs": [],
   "source": [
    "def test_fib(n):\n",
    "    a,b=0,1\n",
    "    for i in range(n):\n",
    "        yield a   \n",
    "        a,b=b,a+b"
   ]
  },
  {
   "cell_type": "code",
   "execution_count": 17,
   "id": "ca1c8b56-d682-47aa-8fc3-8be9cdd6f7ba",
   "metadata": {},
   "outputs": [
    {
     "data": {
      "text/plain": [
       "<generator object test_fib at 0x7f2d5cbf7c30>"
      ]
     },
     "execution_count": 17,
     "metadata": {},
     "output_type": "execute_result"
    }
   ],
   "source": [
    "test_fib(12)"
   ]
  },
  {
   "cell_type": "code",
   "execution_count": 18,
   "id": "2f166bff-09bf-4ad8-bf71-94bd5cc36eaf",
   "metadata": {},
   "outputs": [
    {
     "name": "stdout",
     "output_type": "stream",
     "text": [
      "0\n",
      "1\n",
      "1\n",
      "2\n",
      "3\n",
      "5\n",
      "8\n",
      "13\n",
      "21\n",
      "34\n"
     ]
    }
   ],
   "source": [
    "#to print the result of generator function put in inside a for loop\n",
    "for i in test_fib(10):\n",
    "    print(i)"
   ]
  },
  {
   "cell_type": "markdown",
   "id": "3ca4621c-adc9-45bc-8569-24185b0e22a0",
   "metadata": {},
   "source": [
    "Q5. Create a generator function for prime numbers less than 1000. Use the next() method to print the\n",
    "first 20 prime numbers."
   ]
  },
  {
   "cell_type": "code",
   "execution_count": 19,
   "id": "5cd7544e-6f75-4b1a-8e80-e70ce54a1578",
   "metadata": {},
   "outputs": [],
   "source": [
    "def isprime(n):\n",
    "    for i in range (2,n):\n",
    "        if n%i==0:\n",
    "            return False\n",
    "    return True"
   ]
  },
  {
   "cell_type": "code",
   "execution_count": 20,
   "id": "3ed4c53a-9cbf-47b9-bbd1-564b41b6567d",
   "metadata": {},
   "outputs": [],
   "source": [
    "def prime_num2(n):\n",
    "    for i in range(2,n):\n",
    "        if isprime(i)==True:\n",
    "            yield i"
   ]
  },
  {
   "cell_type": "code",
   "execution_count": 44,
   "id": "eb91d8ca-828d-4ae8-b53a-5d2a99638552",
   "metadata": {},
   "outputs": [],
   "source": [
    "a=iter(prime_num2(1000))"
   ]
  },
  {
   "cell_type": "code",
   "execution_count": 46,
   "id": "b01387a9-6985-4b77-a093-3b999ef39440",
   "metadata": {},
   "outputs": [
    {
     "name": "stdout",
     "output_type": "stream",
     "text": [
      "count: 1 Prime no: 2\n",
      "count: 2 Prime no: 3\n",
      "count: 3 Prime no: 5\n",
      "count: 4 Prime no: 7\n",
      "count: 5 Prime no: 11\n",
      "count: 6 Prime no: 13\n",
      "count: 7 Prime no: 17\n",
      "count: 8 Prime no: 19\n",
      "count: 9 Prime no: 23\n",
      "count: 10 Prime no: 29\n",
      "count: 11 Prime no: 31\n",
      "count: 12 Prime no: 37\n",
      "count: 13 Prime no: 41\n",
      "count: 14 Prime no: 43\n",
      "count: 15 Prime no: 47\n",
      "count: 16 Prime no: 53\n",
      "count: 17 Prime no: 59\n",
      "count: 18 Prime no: 61\n",
      "count: 19 Prime no: 67\n",
      "count: 20 Prime no: 71\n"
     ]
    }
   ],
   "source": [
    "for i in range(20):\n",
    "    print(\"count:\",i+1,\"Prime no:\",next(a))"
   ]
  }
 ],
 "metadata": {
  "kernelspec": {
   "display_name": "Python 3 (ipykernel)",
   "language": "python",
   "name": "python3"
  },
  "language_info": {
   "codemirror_mode": {
    "name": "ipython",
    "version": 3
   },
   "file_extension": ".py",
   "mimetype": "text/x-python",
   "name": "python",
   "nbconvert_exporter": "python",
   "pygments_lexer": "ipython3",
   "version": "3.10.8"
  }
 },
 "nbformat": 4,
 "nbformat_minor": 5
}
