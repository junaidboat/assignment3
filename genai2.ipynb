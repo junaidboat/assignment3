{
 "cells": [
  {
   "cell_type": "code",
   "execution_count": 6,
   "id": "f8e659a7-be3c-4da1-a147-2c90ea8b2c28",
   "metadata": {},
   "outputs": [
    {
     "data": {
      "text/plain": [
       "1"
      ]
     },
     "execution_count": 6,
     "metadata": {},
     "output_type": "execute_result"
    }
   ],
   "source": [
    "#1.calculate the sum and prouct and quitont between 2 numbers \n",
    "a=90\n",
    "b=45\n",
    "# for finding sum \n",
    "a+b\n",
    "#for finding product \n",
    "a*b\n",
    "#for finding quitont \n",
    "a//b"
   ]
  },
  {
   "cell_type": "code",
   "execution_count": 3,
   "id": "67a56823-b365-498c-9d15-b0dbe9dada45",
   "metadata": {},
   "outputs": [
    {
     "data": {
      "text/plain": [
       "135"
      ]
     },
     "execution_count": 3,
     "metadata": {},
     "output_type": "execute_result"
    }
   ],
   "source": [
    "a+b\n"
   ]
  },
  {
   "cell_type": "code",
   "execution_count": 4,
   "id": "f5f5e6db-a27a-498b-aa04-d8b73a37dd8a",
   "metadata": {},
   "outputs": [
    {
     "data": {
      "text/plain": [
       "4050"
      ]
     },
     "execution_count": 4,
     "metadata": {},
     "output_type": "execute_result"
    }
   ],
   "source": [
    "a*b"
   ]
  },
  {
   "cell_type": "code",
   "execution_count": 7,
   "id": "d96c26a5-da17-47a5-b7ad-7c17e9781bc8",
   "metadata": {},
   "outputs": [
    {
     "data": {
      "text/plain": [
       "2"
      ]
     },
     "execution_count": 7,
     "metadata": {},
     "output_type": "execute_result"
    }
   ],
   "source": [
    "a//b"
   ]
  },
  {
   "cell_type": "code",
   "execution_count": 12,
   "id": "5fee8e22-da84-4a71-9506-6c541cbef065",
   "metadata": {},
   "outputs": [
    {
     "data": {
      "text/plain": [
       "9"
      ]
     },
     "execution_count": 12,
     "metadata": {},
     "output_type": "execute_result"
    }
   ],
   "source": [
    "#question 2:compare various operations on the assignment variables\n",
    "b=9\n",
    "b\n",
    "#these operator is used to assign the variable "
   ]
  },
  {
   "cell_type": "code",
   "execution_count": 13,
   "id": "60c2c653-d634-4402-88be-6a0b5ab0f19a",
   "metadata": {},
   "outputs": [
    {
     "data": {
      "text/plain": [
       "16"
      ]
     },
     "execution_count": 13,
     "metadata": {},
     "output_type": "execute_result"
    }
   ],
   "source": [
    "b+=7\n",
    "b\n",
    "#these operator is use to add the value to the variable "
   ]
  },
  {
   "cell_type": "code",
   "execution_count": 14,
   "id": "7f44787e-1d2e-4981-b8ef-d679e772ab3c",
   "metadata": {},
   "outputs": [
    {
     "data": {
      "text/plain": [
       "8"
      ]
     },
     "execution_count": 14,
     "metadata": {},
     "output_type": "execute_result"
    }
   ],
   "source": [
    "b-=8\n",
    "b\n",
    "#these operator is used to subsctract the value from the variable "
   ]
  },
  {
   "cell_type": "code",
   "execution_count": 15,
   "id": "ef2a4c5b-a9c0-4342-a265-4d8ef7d62103",
   "metadata": {},
   "outputs": [
    {
     "data": {
      "text/plain": [
       "24"
      ]
     },
     "execution_count": 15,
     "metadata": {},
     "output_type": "execute_result"
    }
   ],
   "source": [
    "b*=3\n",
    "b\n",
    "#these operator is used to multiply the value in the variabes\n"
   ]
  },
  {
   "cell_type": "code",
   "execution_count": 16,
   "id": "2485b8e0-0222-4b26-bcfa-7de4c4c7c9e5",
   "metadata": {},
   "outputs": [
    {
     "data": {
      "text/plain": [
       "12.0"
      ]
     },
     "execution_count": 16,
     "metadata": {},
     "output_type": "execute_result"
    }
   ],
   "source": [
    "b/=2\n",
    "b\n",
    "#these operator is use to divide the value in the variable \n"
   ]
  },
  {
   "cell_type": "code",
   "execution_count": 19,
   "id": "4afbc7ad-8265-4dcc-8617-4f1fe41c9a7d",
   "metadata": {},
   "outputs": [
    {
     "data": {
      "text/plain": [
       "0.0"
      ]
     },
     "execution_count": 19,
     "metadata": {},
     "output_type": "execute_result"
    }
   ],
   "source": [
    "b%=3\n",
    "b\n",
    "#these is modulus operator "
   ]
  },
  {
   "cell_type": "code",
   "execution_count": 20,
   "id": "caaee5e4-1485-4e88-a140-73254203569e",
   "metadata": {},
   "outputs": [
    {
     "data": {
      "text/plain": [
       "0.0"
      ]
     },
     "execution_count": 20,
     "metadata": {},
     "output_type": "execute_result"
    }
   ],
   "source": [
    "b**=5\n",
    "b\n",
    "#these is exponential operator "
   ]
  },
  {
   "cell_type": "code",
   "execution_count": 21,
   "id": "815bd4ac-c5cc-4d91-b908-9232bb66c15a",
   "metadata": {},
   "outputs": [
    {
     "data": {
      "text/plain": [
       "True"
      ]
     },
     "execution_count": 21,
     "metadata": {},
     "output_type": "execute_result"
    }
   ],
   "source": [
    "#question 3:\n",
    "#compare two number and print the number \n",
    "a=3\n",
    "b=3\n",
    "a==b\n",
    "#here both the value of the variable are same ,so it wll give the output true other wise it will retur false as an output"
   ]
  },
  {
   "cell_type": "code",
   "execution_count": 23,
   "id": "761d2f68-e98a-4f43-97a3-da630b504ae8",
   "metadata": {},
   "outputs": [
    {
     "data": {
      "text/plain": [
       "True"
      ]
     },
     "execution_count": 23,
     "metadata": {},
     "output_type": "execute_result"
    }
   ],
   "source": [
    "#question 4:\n",
    "#check condition using logical operator \n",
    "x=9\n",
    "y=19\n",
    "x>6 and y>9\n",
    "#here if the both condition are true it wil return the output as true ekse if there is one value wrong it will give an output as a false\n",
    "#these operator is known as and operator "
   ]
  },
  {
   "cell_type": "code",
   "execution_count": null,
   "id": "008cf620-e8bf-4a7a-85fd-fb9740d959c0",
   "metadata": {},
   "outputs": [],
   "source": [
    "x=78\n",
    "y=9\n",
    "x>8 or y<899\n",
    "#here only the one condition satisfied an its an or operater so the output is true \n"
   ]
  },
  {
   "cell_type": "code",
   "execution_count": 24,
   "id": "5d4a42f4-37b4-4123-8276-93e98560b6ee",
   "metadata": {},
   "outputs": [
    {
     "data": {
      "text/plain": [
       "True"
      ]
     },
     "execution_count": 24,
     "metadata": {},
     "output_type": "execute_result"
    }
   ],
   "source": [
    "#not operator \n",
    "n=8\n",
    "h=90\n",
    "not(h>888) and n>5"
   ]
  },
  {
   "cell_type": "code",
   "execution_count": 32,
   "id": "f1845f6e-fc88-46cc-b65a-8d6cb5d8b66b",
   "metadata": {},
   "outputs": [
    {
     "data": {
      "text/plain": [
       "False"
      ]
     },
     "execution_count": 32,
     "metadata": {},
     "output_type": "execute_result"
    }
   ],
   "source": [
    "#question:5 \n",
    "#check the identity variable \n",
    "a=89\n",
    "b=90\n",
    "id(a)==id(b)"
   ]
  },
  {
   "cell_type": "code",
   "execution_count": 34,
   "id": "e4508d32-f7b9-4907-b3d6-7370235ccdda",
   "metadata": {},
   "outputs": [
    {
     "data": {
      "text/plain": [
       "True"
      ]
     },
     "execution_count": 34,
     "metadata": {},
     "output_type": "execute_result"
    }
   ],
   "source": [
    "#if the values are same of the both variable then it will give an output as true \n",
    "y=90\n",
    "j=90\n",
    "id(y)==id(j)"
   ]
  },
  {
   "cell_type": "code",
   "execution_count": 35,
   "id": "8bbe31ed-4b83-4cbc-959f-b0a70fd0efad",
   "metadata": {},
   "outputs": [
    {
     "data": {
      "text/plain": [
       "48279661532129830721065844736"
      ]
     },
     "execution_count": 35,
     "metadata": {},
     "output_type": "execute_result"
    }
   ],
   "source": [
    "#question 6: \n",
    "#perform bitwise operator on any two variables \n",
    "a=78\n",
    "b=89\n",
    "a<<b\n",
    "#these is right bitwise operator "
   ]
  },
  {
   "cell_type": "code",
   "execution_count": 36,
   "id": "781150e8-831d-4db9-8a0a-8c9cd943f3f3",
   "metadata": {},
   "outputs": [
    {
     "data": {
      "text/plain": [
       "0"
      ]
     },
     "execution_count": 36,
     "metadata": {},
     "output_type": "execute_result"
    }
   ],
   "source": [
    "a>>b\n",
    "#these is left bit wise operator "
   ]
  },
  {
   "cell_type": "code",
   "execution_count": 39,
   "id": "c8345923-6bae-40c1-8f90-56f0db618a3b",
   "metadata": {},
   "outputs": [
    {
     "name": "stdout",
     "output_type": "stream",
     "text": [
      "unary plus: 5\n"
     ]
    }
   ],
   "source": [
    "#question 7:\n",
    "#use urinary operator to change the sign of the number \n",
    "a=90\n",
    "b=900\n",
    "c=-5\n",
    "print(\"unary plus:\",-c)"
   ]
  },
  {
   "cell_type": "code",
   "execution_count": 41,
   "id": "99436010-bc43-4bd4-bc95-d8419a3861d4",
   "metadata": {},
   "outputs": [
    {
     "name": "stdout",
     "output_type": "stream",
     "text": [
      "unary minus: -7\n"
     ]
    }
   ],
   "source": [
    "a=90\n",
    "b=89\n",
    "c=-7\n",
    "print(\"unary minus:\",+c)"
   ]
  },
  {
   "cell_type": "code",
   "execution_count": 54,
   "id": "9cffe543-82ac-4157-951a-0f0e4ee03ccd",
   "metadata": {},
   "outputs": [
    {
     "data": {
      "text/plain": [
       "'b is greater '"
      ]
     },
     "execution_count": 54,
     "metadata": {},
     "output_type": "execute_result"
    }
   ],
   "source": [
    "#question 8 \n",
    "#use ternary operator to assign value based on the condition \n",
    "a=10\n",
    "b=20\n",
    "h= (\"a is greater \" if a>b else \"b is greater \")\n",
    "h"
   ]
  },
  {
   "cell_type": "code",
   "execution_count": null,
   "id": "88de6c63-11d7-4477-9b01-dee9923d1c26",
   "metadata": {},
   "outputs": [],
   "source": []
  }
 ],
 "metadata": {
  "kernelspec": {
   "display_name": "Python 3 (ipykernel)",
   "language": "python",
   "name": "python3"
  },
  "language_info": {
   "codemirror_mode": {
    "name": "ipython",
    "version": 3
   },
   "file_extension": ".py",
   "mimetype": "text/x-python",
   "name": "python",
   "nbconvert_exporter": "python",
   "pygments_lexer": "ipython3",
   "version": "3.10.8"
  }
 },
 "nbformat": 4,
 "nbformat_minor": 5
}
