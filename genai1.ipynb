{
 "cells": [
  {
   "cell_type": "code",
   "execution_count": null,
   "id": "ca229cf2-7820-4161-bece-08c835caf00e",
   "metadata": {},
   "outputs": [],
   "source": [
    "#1.convert a integer to an floating point numbers\n"
   ]
  },
  {
   "cell_type": "code",
   "execution_count": 1,
   "id": "9ff87e65-d194-4136-99df-6b74239be945",
   "metadata": {},
   "outputs": [
    {
     "data": {
      "text/plain": [
       "9.0"
      ]
     },
     "execution_count": 1,
     "metadata": {},
     "output_type": "execute_result"
    }
   ],
   "source": [
    "a=(9)\n",
    "float(a)"
   ]
  },
  {
   "cell_type": "code",
   "execution_count": 3,
   "id": "0c4ce383-a197-4a1c-ac25-a7ff8676a081",
   "metadata": {},
   "outputs": [
    {
     "data": {
      "text/plain": [
       "7"
      ]
     },
     "execution_count": 3,
     "metadata": {},
     "output_type": "execute_result"
    }
   ],
   "source": [
    "#2.convert a float to an integers\n",
    "b=7.9\n",
    "int(b)"
   ]
  },
  {
   "cell_type": "code",
   "execution_count": 4,
   "id": "daecb585-58ff-4227-85d0-f1844f16f29d",
   "metadata": {},
   "outputs": [
    {
     "data": {
      "text/plain": [
       "'90'"
      ]
     },
     "execution_count": 4,
     "metadata": {},
     "output_type": "execute_result"
    }
   ],
   "source": [
    "#3.convert a integer to an string\n",
    "b=90\n",
    "str(b)"
   ]
  },
  {
   "cell_type": "code",
   "execution_count": 5,
   "id": "1885fdb8-ec2b-430e-a0d7-9bebf96140f8",
   "metadata": {},
   "outputs": [
    {
     "data": {
      "text/plain": [
       "(2, 4, 6, 7, 86, 5)"
      ]
     },
     "execution_count": 5,
     "metadata": {},
     "output_type": "execute_result"
    }
   ],
   "source": [
    "#4.convert a list to an tuple\n",
    "c=[2,4,6,7,86,5]\n",
    "tuple(c)"
   ]
  },
  {
   "cell_type": "code",
   "execution_count": 6,
   "id": "f5aa4783-0642-49c9-8db7-8b0f233c498a",
   "metadata": {},
   "outputs": [
    {
     "data": {
      "text/plain": [
       "[78, 'junaid', 'boat', 34, 5, 89]"
      ]
     },
     "execution_count": 6,
     "metadata": {},
     "output_type": "execute_result"
    }
   ],
   "source": [
    "#5.convert a tuple to an list \n",
    "c=(78,\"junaid\",\"boat\",34,5,89)\n",
    "list(c)"
   ]
  },
  {
   "cell_type": "code",
   "execution_count": 9,
   "id": "3d8c8665-48cd-4b8c-9689-6e975c492a77",
   "metadata": {},
   "outputs": [
    {
     "data": {
      "text/plain": [
       "'0b1011010'"
      ]
     },
     "execution_count": 9,
     "metadata": {},
     "output_type": "execute_result"
    }
   ],
   "source": [
    "#6.convert a decimal number to an binary\n",
    "f=90\n",
    "bin(f)"
   ]
  },
  {
   "cell_type": "code",
   "execution_count": 10,
   "id": "860cfc99-1a85-4454-a791-9fa18239d4f0",
   "metadata": {},
   "outputs": [
    {
     "data": {
      "text/plain": [
       "True"
      ]
     },
     "execution_count": 10,
     "metadata": {},
     "output_type": "execute_result"
    }
   ],
   "source": [
    "#7.convert a non zero integer to an bool\n",
    "h=90\n",
    "bool(h)"
   ]
  },
  {
   "cell_type": "code",
   "execution_count": null,
   "id": "262f9935-a075-4be0-a606-5c2665e2a427",
   "metadata": {},
   "outputs": [],
   "source": []
  }
 ],
 "metadata": {
  "kernelspec": {
   "display_name": "Python 3 (ipykernel)",
   "language": "python",
   "name": "python3"
  },
  "language_info": {
   "codemirror_mode": {
    "name": "ipython",
    "version": 3
   },
   "file_extension": ".py",
   "mimetype": "text/x-python",
   "name": "python",
   "nbconvert_exporter": "python",
   "pygments_lexer": "ipython3",
   "version": "3.10.8"
  }
 },
 "nbformat": 4,
 "nbformat_minor": 5
}
