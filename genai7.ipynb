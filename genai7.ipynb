{
  "nbformat": 4,
  "nbformat_minor": 0,
  "metadata": {
    "colab": {
      "provenance": []
    },
    "kernelspec": {
      "name": "python3",
      "display_name": "Python 3"
    },
    "language_info": {
      "name": "python"
    }
  },
  "cells": [
    {
      "cell_type": "markdown",
      "source": [
        " QUESTION1:What is the purpose of the len() function in Python, and how can it be used with strings?\n",
        "\n",
        " answer:len function is  basically uised to find the length of the data types such as integer ,string ,list ,tuple\n",
        " we used these with a string as shown below\n",
        " a=\"junaid\"\n",
        " len(a)\n",
        "  here we can get the length of the string a"
      ],
      "metadata": {
        "id": "F3NFOYWDvL3H"
      }
    },
    {
      "cell_type": "markdown",
      "source": [
        "quēśtion 2: How can you concatenate two or more strings in Python, and can you provide an example of string concatenation?\n"
      ],
      "metadata": {
        "id": "PP_dg3mBv-Qj"
      }
    },
    {
      "cell_type": "code",
      "source": [
        "a=\"string1\"\n",
        "b=\"string2\"\n",
        "c=\"string3\"\n",
        "d=a+b+c\n",
        "print(d)\n",
        "#these is how we have concatenade the strings"
      ],
      "metadata": {
        "colab": {
          "base_uri": "https://localhost:8080/",
          "height": 0
        },
        "id": "B8GeJT9Zwbmm",
        "outputId": "ef8abef2-c729-4bfc-8d55-ca1b7b05b1cb"
      },
      "execution_count": 1,
      "outputs": [
        {
          "output_type": "stream",
          "name": "stdout",
          "text": [
            "string1string2string3\n"
          ]
        }
      ]
    },
    {
      "cell_type": "markdown",
      "source": [
        "question 3:What is string slicing in Python, and how can you extract a portion of a string using this method?\n",
        "\n",
        "answer:String slicing in Python is a way to extract a specific portion (substring) of a string by specifying a range of indices. This is done by using the slicing syntax:\n",
        "a=\"junaid\"\n",
        "a[1]\n",
        "it will give the output \"u\""
      ],
      "metadata": {
        "id": "dkrLLF0rw5ZI"
      }
    },
    {
      "cell_type": "markdown",
      "source": [
        "question 4:How can you change the case of a string in Python, and can you provide examples of both making a string all uppercase and all lowercase?"
      ],
      "metadata": {
        "id": "B3BjIGYTx71w"
      }
    },
    {
      "cell_type": "code",
      "source": [
        "a=\"junaid\"\n",
        "a.upper()"
      ],
      "metadata": {
        "colab": {
          "base_uri": "https://localhost:8080/",
          "height": 36
        },
        "id": "EiYgohPEyCBo",
        "outputId": "c3c1171e-16e0-425f-9470-521dbb9d3fc2"
      },
      "execution_count": 2,
      "outputs": [
        {
          "output_type": "execute_result",
          "data": {
            "text/plain": [
              "'JUNAID'"
            ],
            "application/vnd.google.colaboratory.intrinsic+json": {
              "type": "string"
            }
          },
          "metadata": {},
          "execution_count": 2
        }
      ]
    },
    {
      "cell_type": "code",
      "source": [
        "b=\"BOAT\"\n",
        "b.lower()"
      ],
      "metadata": {
        "colab": {
          "base_uri": "https://localhost:8080/",
          "height": 36
        },
        "id": "4vOBWRTwyLMn",
        "outputId": "59a0a491-f27e-42b6-92a5-aa70a7392d71"
      },
      "execution_count": 3,
      "outputs": [
        {
          "output_type": "execute_result",
          "data": {
            "text/plain": [
              "'boat'"
            ],
            "application/vnd.google.colaboratory.intrinsic+json": {
              "type": "string"
            }
          },
          "metadata": {},
          "execution_count": 3
        }
      ]
    },
    {
      "cell_type": "markdown",
      "source": [
        "question5:What does the split() method do in Python, and how can you split a string using a specific delimiter?\n",
        "\n",
        "answerThe split() method in Python is used to divide a string into a list of substrings based on a specified delimiter. By default, it splits by whitespace (spaces, tabs, newlines), but you can specify any delimiter as an argument."
      ],
      "metadata": {
        "id": "cEXCjPZAyj8n"
      }
    },
    {
      "cell_type": "code",
      "source": [
        "text=\"python is a programming langauge \"\n",
        "text.split()"
      ],
      "metadata": {
        "colab": {
          "base_uri": "https://localhost:8080/",
          "height": 0
        },
        "id": "C-qPVhSNyzH3",
        "outputId": "47960ff6-0f6d-4ddc-f97c-fe94b164ba77"
      },
      "execution_count": 5,
      "outputs": [
        {
          "output_type": "execute_result",
          "data": {
            "text/plain": [
              "['python', 'is', 'a', 'programming', 'langauge']"
            ]
          },
          "metadata": {},
          "execution_count": 5
        }
      ]
    },
    {
      "cell_type": "code",
      "source": [
        "#split by comma\n",
        "text=\"junaid,ismail,boat\"\n",
        "text.split(\",\")\n"
      ],
      "metadata": {
        "colab": {
          "base_uri": "https://localhost:8080/",
          "height": 0
        },
        "id": "ZbCOlSskzc3o",
        "outputId": "dea57946-e275-4c2f-ac17-f9ad0c17bdc2"
      },
      "execution_count": 6,
      "outputs": [
        {
          "output_type": "execute_result",
          "data": {
            "text/plain": [
              "['junaid', 'ismail', 'boat']"
            ]
          },
          "metadata": {},
          "execution_count": 6
        }
      ]
    }
  ]
}