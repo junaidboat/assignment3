{
 "cells": [
  {
   "cell_type": "code",
   "execution_count": null,
   "id": "a5215ea8-5631-40a2-8300-94b1180faf0f",
   "metadata": {},
   "outputs": [],
   "source": [
    "#question 1:expalin the significance of python keyword and provide the examples of the five keywords "
   ]
  },
  {
   "cell_type": "code",
   "execution_count": 10,
   "id": "43127042-94f9-47fe-a092-d85461154f47",
   "metadata": {},
   "outputs": [
    {
     "data": {
      "text/plain": [
       "'python keywords are some predefined and reserved words in python that have specail \\nmeanings.keywords are used to define the syntax of the coding .\\nsome of the example are (print):use to print the statement (and),(as),(break),(continue)\\nthese are the some python keywords.'"
      ]
     },
     "execution_count": 10,
     "metadata": {},
     "output_type": "execute_result"
    }
   ],
   "source": [
    "\n",
    "\"\"\"python keywords are some predefined and reserved words in python that have specail \n",
    "meanings.keywords are used to define the syntax of the coding .\n",
    "some of the example are (print):use to print the statement (and),(as),(break),(continue)\n",
    "these are the some python keywords.\"\"\"\n",
    "\n"
   ]
  },
  {
   "cell_type": "code",
   "execution_count": 19,
   "id": "b8312980-6b34-4c5f-a360-60c797973163",
   "metadata": {},
   "outputs": [
    {
     "data": {
      "text/plain": [
       "'answer: identifier in the python is use to define variable ,functions ,class module an identifier can only contain letter ,digits, and underscores and cannot start with the digit in python identifier are case snesitive meaning that HO and hi are considered to be two diffrent identifier examples are junaid_assignment ,jun_3'"
      ]
     },
     "execution_count": 19,
     "metadata": {},
     "output_type": "execute_result"
    }
   ],
   "source": [
    "#2.Describe the rules for defining identifiers in Python and provide an example\n",
    "\"\"\"answer: identifier in the python is use to define variable ,functions ,class module an identifier can only contain letter ,digits, and underscores and cannot start with the digit in python identifier are case snesitive meaning that HO and hi are considered to be two diffrent identifier examples are junaid_assignment ,jun_3\"\"\""
   ]
  },
  {
   "cell_type": "code",
   "execution_count": 12,
   "id": "ab41df2a-65d1-4167-93cc-bee24fd8d8ae",
   "metadata": {},
   "outputs": [],
   "source": [
    "#3.What are comments in Python, and why are they useful6 Provide an example"
   ]
  },
  {
   "cell_type": "code",
   "execution_count": 20,
   "id": "ec961672-33fb-4460-8aba-6c70aeab9382",
   "metadata": {},
   "outputs": [
    {
     "data": {
      "text/plain": [
       "'comment in the python are very useful basically it s the rough works that cannot be executed ,we use the comment because to understand the program easily ,syntax for comment are we use (#) these symbol for writting one line comment  for writing more lines comment we use other symbol which i am writing the answer'"
      ]
     },
     "execution_count": 20,
     "metadata": {},
     "output_type": "execute_result"
    }
   ],
   "source": [
    "\"\"\"comment in the python are very useful basically it s the rough works that cannot be executed ,we use the comment because to understand the program easily ,syntax for comment are we use (#) these symbol for writting one line comment  for writing more lines comment we use other symbol which i am writing the answer\"\"\""
   ]
  },
  {
   "cell_type": "code",
   "execution_count": 21,
   "id": "9166976a-1bd6-4bab-8fff-a13c7aace0ca",
   "metadata": {},
   "outputs": [
    {
     "data": {
      "text/plain": [
       "'proper indentation are important in the python because it will give an error specially when we are doing with if else condition ,while loop,foor loop condition without proper indentation it will through the error in the program '"
      ]
     },
     "execution_count": 21,
     "metadata": {},
     "output_type": "execute_result"
    }
   ],
   "source": [
    "#4. Why is proper indentation important in Python\n",
    "\"\"\"proper indentation are important in the python because it will give an error specially when we are doing with if else condition ,while loop,foor loop condition without proper indentation it will through the error in the program \"\"\"\n"
   ]
  },
  {
   "cell_type": "code",
   "execution_count": null,
   "id": "3fa8d7da-5eff-4124-99a6-404e352258a1",
   "metadata": {},
   "outputs": [],
   "source": [
    "#5. What happens if indentation is incorrect in Python6"
   ]
  },
  {
   "cell_type": "code",
   "execution_count": 22,
   "id": "0c775129-1da0-4dc1-9bcb-073d88e2f4eb",
   "metadata": {},
   "outputs": [
    {
     "data": {
      "text/plain": [
       "'if the indentation is not coorect then the program will throw the error so we need need to give the proper indentation'"
      ]
     },
     "execution_count": 22,
     "metadata": {},
     "output_type": "execute_result"
    }
   ],
   "source": [
    "\"\"\"if the indentation is not coorect then the program will throw the error so we need need to give the proper indentation\"\"\" "
   ]
  },
  {
   "cell_type": "code",
   "execution_count": 23,
   "id": "b744483a-f161-4a70-96f5-a2c21eb589e4",
   "metadata": {},
   "outputs": [],
   "source": [
    "#7. Differentiate between expression and statement in Python with examples\n"
   ]
  },
  {
   "cell_type": "code",
   "execution_count": 27,
   "id": "f2a0e69b-6433-42a1-bcd5-f84cd7686630",
   "metadata": {},
   "outputs": [
    {
     "data": {
      "text/plain": [
       "'an statement in python is used for creting variables or for displaying valuesa statement in python is not evaluated for some resluta statement can be a exoression example: x=4 (o/p=4)'"
      ]
     },
     "execution_count": 27,
     "metadata": {},
     "output_type": "execute_result"
    }
   ],
   "source": [
    "\"\"\"an statement in python is used for creting variables or for displaying valuesa statement in python is not evaluated for some resluta statement can be a expression example: x=4 (o/p=4)\"\"\"\n"
   ]
  },
  {
   "cell_type": "code",
   "execution_count": 28,
   "id": "0bd615b3-acfd-43e3-8dac-998aefab27d4",
   "metadata": {},
   "outputs": [
    {
     "data": {
      "text/plain": [
       "'the expression in python produce some values or result after being intepreted by the python intepeter an expression in python is evaluated for some result an expresion is not a statement example:x=9+8(o/p=17)'"
      ]
     },
     "execution_count": 28,
     "metadata": {},
     "output_type": "execute_result"
    }
   ],
   "source": [
    "\"\"\"the expression in python produce some values or result after being intepreted by the python intepeter an expression in python is evaluated for some result an expresion is not a statement example:x=9+8(o/p=17)\"\"\""
   ]
  },
  {
   "cell_type": "code",
   "execution_count": null,
   "id": "941cac00-3ee1-43a9-9fc4-b43be0762ddc",
   "metadata": {},
   "outputs": [],
   "source": []
  }
 ],
 "metadata": {
  "kernelspec": {
   "display_name": "Python 3 (ipykernel)",
   "language": "python",
   "name": "python3"
  },
  "language_info": {
   "codemirror_mode": {
    "name": "ipython",
    "version": 3
   },
   "file_extension": ".py",
   "mimetype": "text/x-python",
   "name": "python",
   "nbconvert_exporter": "python",
   "pygments_lexer": "ipython3",
   "version": "3.10.8"
  }
 },
 "nbformat": 4,
 "nbformat_minor": 5
}
