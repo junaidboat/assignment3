{
  "nbformat": 4,
  "nbformat_minor": 0,
  "metadata": {
    "colab": {
      "provenance": []
    },
    "kernelspec": {
      "name": "python3",
      "display_name": "Python 3"
    },
    "language_info": {
      "name": "python"
    }
  },
  "cells": [
    {
      "cell_type": "code",
      "execution_count": 1,
      "metadata": {
        "colab": {
          "base_uri": "https://localhost:8080/"
        },
        "id": "bk6yKbJBJ07f",
        "outputId": "0cd7721b-f680-4031-f580-4c025d4263a5"
      },
      "outputs": [
        {
          "output_type": "stream",
          "name": "stdout",
          "text": [
            "1\n",
            "2\n",
            "3\n",
            "4\n",
            "5\n"
          ]
        }
      ],
      "source": [
        "#1.print a number from 1 to  using while loops\n",
        "number = 1\n",
        "\n",
        "while number <= 5:\n",
        "    print(number)\n",
        "    number += 1"
      ]
    },
    {
      "cell_type": "code",
      "source": [
        "#2.Calculate the sum of numbers from 1 to 10 using a while loop.\n",
        "total_sum = 0\n",
        "number = 1\n",
        "\n",
        "while number <= 10:\n",
        "    total_sum += number\n",
        "    number += 1\n",
        "\n",
        "print(\"The sum of numbers from 1 to 10 is:\", total_sum)"
      ],
      "metadata": {
        "colab": {
          "base_uri": "https://localhost:8080/"
        },
        "id": "k90KLN7gKQme",
        "outputId": "7dd11b71-ced2-4045-ffcb-3344719b25dc"
      },
      "execution_count": 2,
      "outputs": [
        {
          "output_type": "stream",
          "name": "stdout",
          "text": [
            "The sum of numbers from 1 to 10 is: 55\n"
          ]
        }
      ]
    },
    {
      "cell_type": "code",
      "source": [
        "#3. Calculate the factorial of a number using a for loop.\n",
        "# Function to calculate factorial\n",
        "def factorial(n):\n",
        "    result = 1\n",
        "    for i in range(1, n + 1):\n",
        "        result *= i\n",
        "    return result\n",
        "\n",
        "# Example usage\n",
        "number = 5  # You can change this number\n",
        "print(f\"The factorial of {number} is: {factorial(number)}\")\n"
      ],
      "metadata": {
        "colab": {
          "base_uri": "https://localhost:8080/"
        },
        "id": "BhT2NdqQKuPc",
        "outputId": "e3c26024-acf9-4927-eeb9-5eda7d2c5f63"
      },
      "execution_count": 3,
      "outputs": [
        {
          "output_type": "stream",
          "name": "stdout",
          "text": [
            "The factorial of 5 is: 120\n"
          ]
        }
      ]
    },
    {
      "cell_type": "code",
      "source": [
        "#4.Count the number of vowels in a string using a for loop.\n",
        "# Function to count vowels in a string\n",
        "def count_vowels(s):\n",
        "    vowels = 'aeiouAEIOU'\n",
        "    count = 0\n",
        "    for char in s:\n",
        "        if char in vowels:\n",
        "            count += 1\n",
        "    return count\n",
        "\n",
        "# Example usage\n",
        "input_string = \"Hello, World!\"\n",
        "vowel_count = count_vowels(input_string)\n",
        "print(f\"The number of vowels in the string is: {vowel_count}\")\n"
      ],
      "metadata": {
        "colab": {
          "base_uri": "https://localhost:8080/"
        },
        "id": "hI-AnooEK8_0",
        "outputId": "4db6cdb9-e004-47cf-c473-56802ed18496"
      },
      "execution_count": 4,
      "outputs": [
        {
          "output_type": "stream",
          "name": "stdout",
          "text": [
            "The number of vowels in the string is: 3\n"
          ]
        }
      ]
    },
    {
      "cell_type": "code",
      "source": [
        "#5.Print a pattern using nested loops.\n",
        "# Number of rows for the pattern\n",
        "rows = 5\n",
        "\n",
        "# Nested loops to print the pattern\n",
        "for i in range(1, rows + 1):\n",
        "    for j in range(i):\n",
        "        print(\"*\", end=\" \")\n",
        "    print()  # Move to the next line after each row\n"
      ],
      "metadata": {
        "colab": {
          "base_uri": "https://localhost:8080/"
        },
        "id": "rMluWtoELGvc",
        "outputId": "360d9ba8-d96c-46f8-87f2-e659bb901559"
      },
      "execution_count": 5,
      "outputs": [
        {
          "output_type": "stream",
          "name": "stdout",
          "text": [
            "* \n",
            "* * \n",
            "* * * \n",
            "* * * * \n",
            "* * * * * \n"
          ]
        }
      ]
    },
    {
      "cell_type": "code",
      "source": [
        "#6.Generate a multiplication table using nested loops.\n",
        "# Define the size of the multiplication table\n",
        "size = 10\n",
        "\n",
        "# Nested loops to generate the multiplication table\n",
        "for i in range(1, size + 1):\n",
        "    for j in range(1, size + 1):\n",
        "        print(f\"{i * j:4}\", end=\" \")  # Print the product, formatted for alignment\n",
        "    print()  # Move to the next line after each row\n"
      ],
      "metadata": {
        "colab": {
          "base_uri": "https://localhost:8080/"
        },
        "id": "NVmQl_1xLSc0",
        "outputId": "f76cccbb-ab58-4e8a-d7e1-e6a39ab6af47"
      },
      "execution_count": 6,
      "outputs": [
        {
          "output_type": "stream",
          "name": "stdout",
          "text": [
            "   1    2    3    4    5    6    7    8    9   10 \n",
            "   2    4    6    8   10   12   14   16   18   20 \n",
            "   3    6    9   12   15   18   21   24   27   30 \n",
            "   4    8   12   16   20   24   28   32   36   40 \n",
            "   5   10   15   20   25   30   35   40   45   50 \n",
            "   6   12   18   24   30   36   42   48   54   60 \n",
            "   7   14   21   28   35   42   49   56   63   70 \n",
            "   8   16   24   32   40   48   56   64   72   80 \n",
            "   9   18   27   36   45   54   63   72   81   90 \n",
            "  10   20   30   40   50   60   70   80   90  100 \n"
          ]
        }
      ]
    }
  ]
}
