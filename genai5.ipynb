{
  "nbformat": 4,
  "nbformat_minor": 0,
  "metadata": {
    "colab": {
      "provenance": []
    },
    "kernelspec": {
      "name": "python3",
      "display_name": "Python 3"
    },
    "language_info": {
      "name": "python"
    }
  },
  "cells": [
    {
      "cell_type": "markdown",
      "source": [
        "1.Write a program to print numbers from 1 to 10, but stop if the number is 5."
      ],
      "metadata": {
        "id": "PkIVi18raeJz"
      }
    },
    {
      "cell_type": "code",
      "execution_count": 1,
      "metadata": {
        "colab": {
          "base_uri": "https://localhost:8080/"
        },
        "id": "zOZBSAZWabcQ",
        "outputId": "1f6ccd30-6782-4fa7-d116-cca403835985"
      },
      "outputs": [
        {
          "output_type": "stream",
          "name": "stdout",
          "text": [
            "1\n",
            "2\n",
            "3\n",
            "4\n"
          ]
        }
      ],
      "source": [
        "for number in range(1,11):\n",
        "  if number ==5:\n",
        "    break\n",
        "  print(number)"
      ]
    },
    {
      "cell_type": "markdown",
      "source": [
        "2.Write a program to iterate through a list and stop when encountering a specific element."
      ],
      "metadata": {
        "id": "0s7GAJcIbQev"
      }
    },
    {
      "cell_type": "code",
      "source": [
        "my_list=[1,2,3,4,5,6,7,8,9]\n",
        "for element in my_list:\n",
        "  if element==5:\n",
        "    break\n",
        "  print(element)"
      ],
      "metadata": {
        "colab": {
          "base_uri": "https://localhost:8080/"
        },
        "id": "i1bUhsFlbUm9",
        "outputId": "9a2b4869-2aff-46c5-d253-dc994b9d01b5"
      },
      "execution_count": 2,
      "outputs": [
        {
          "output_type": "stream",
          "name": "stdout",
          "text": [
            "1\n",
            "2\n",
            "3\n",
            "4\n"
          ]
        }
      ]
    },
    {
      "cell_type": "markdown",
      "source": [
        "3.Write a program to skip printing even numbers from 1 to 10."
      ],
      "metadata": {
        "id": "okuuzs7fbwT8"
      }
    },
    {
      "cell_type": "code",
      "source": [
        "for number in range(1,11):\n",
        "  if number %2==0:\n",
        "    continue\n",
        "  print(number)"
      ],
      "metadata": {
        "colab": {
          "base_uri": "https://localhost:8080/"
        },
        "id": "ospRaN66bzU0",
        "outputId": "402293c5-4000-4390-d0ce-f5760ebbd37b"
      },
      "execution_count": 3,
      "outputs": [
        {
          "output_type": "stream",
          "name": "stdout",
          "text": [
            "1\n",
            "3\n",
            "5\n",
            "7\n",
            "9\n"
          ]
        }
      ]
    },
    {
      "cell_type": "markdown",
      "source": [
        "4. Write a program to print numbers from 0 to 9 using range()."
      ],
      "metadata": {
        "id": "U901PJLacMc2"
      }
    },
    {
      "cell_type": "code",
      "source": [
        "for number in range(0,10):\n",
        "  print(number)"
      ],
      "metadata": {
        "colab": {
          "base_uri": "https://localhost:8080/"
        },
        "id": "vTtBnaTKcQXb",
        "outputId": "74d73c3c-a1d6-45c2-8a06-bac0f6539820"
      },
      "execution_count": 5,
      "outputs": [
        {
          "output_type": "stream",
          "name": "stdout",
          "text": [
            "0\n",
            "1\n",
            "2\n",
            "3\n",
            "4\n",
            "5\n",
            "6\n",
            "7\n",
            "8\n",
            "9\n"
          ]
        }
      ]
    },
    {
      "cell_type": "markdown",
      "source": [
        "5. Write a program to print multiplication tables from 1 to 5, but stop after the first table is printed for each number"
      ],
      "metadata": {
        "id": "M6s2noVbchM2"
      }
    },
    {
      "cell_type": "code",
      "source": [
        "for i in range(1, 6):\n",
        "    print(f\"{i} x 1 = {i * 1}\")\n"
      ],
      "metadata": {
        "colab": {
          "base_uri": "https://localhost:8080/"
        },
        "id": "1ZXxsdlYcyxd",
        "outputId": "f6e1e02f-0c61-482f-ee31-c5cd702f2457"
      },
      "execution_count": 6,
      "outputs": [
        {
          "output_type": "stream",
          "name": "stdout",
          "text": [
            "1 x 1 = 1\n",
            "2 x 1 = 2\n",
            "3 x 1 = 3\n",
            "4 x 1 = 4\n",
            "5 x 1 = 5\n"
          ]
        }
      ]
    },
    {
      "cell_type": "markdown",
      "source": [
        "6.Write a program to skip printing even numbers using a while loop."
      ],
      "metadata": {
        "id": "2SsBuIULddAE"
      }
    },
    {
      "cell_type": "code",
      "source": [
        "number = 1\n",
        "\n",
        "while number <= 10:\n",
        "    if number % 2 == 0:  # Check if the number is even\n",
        "        number += 1\n",
        "        continue  # Skip the rest of the loop for even numbers\n",
        "    print(number)\n",
        "    number += 1\n"
      ],
      "metadata": {
        "colab": {
          "base_uri": "https://localhost:8080/"
        },
        "id": "bzHJP54Tdbfu",
        "outputId": "7f049134-add8-418a-d6f5-a4f5b9190ae8"
      },
      "execution_count": 7,
      "outputs": [
        {
          "output_type": "stream",
          "name": "stdout",
          "text": [
            "1\n",
            "3\n",
            "5\n",
            "7\n",
            "9\n"
          ]
        }
      ]
    }
  ]
}